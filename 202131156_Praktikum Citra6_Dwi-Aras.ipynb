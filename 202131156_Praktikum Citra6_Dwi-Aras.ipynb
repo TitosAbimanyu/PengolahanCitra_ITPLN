{
 "cells": [
  {
   "cell_type": "code",
   "execution_count": 10,
   "id": "783bfab8",
   "metadata": {},
   "outputs": [],
   "source": [
    "import cv2\n",
    "import numpy as np\n",
    "from matplotlib import pyplot as plt"
   ]
  },
  {
   "cell_type": "code",
   "execution_count": 13,
   "id": "59343f07",
   "metadata": {},
   "outputs": [],
   "source": [
    "daun = cv2.imread(\"daun.jpg\", 0)\n",
    "tinggi, lebar = daun.shape"
   ]
  },
  {
   "cell_type": "code",
   "execution_count": 14,
   "id": "c9192737",
   "metadata": {},
   "outputs": [],
   "source": [
    "cv2.imshow(\"Gambar asli Daun\", daun)\n",
    "cv2.waitKey()\n",
    "cv2.destroyAllWindows()"
   ]
  },
  {
   "cell_type": "markdown",
   "id": "55e553d5",
   "metadata": {},
   "source": [
    "# Pengambangan Dwi Aras dengan perkiraan nilai ambang"
   ]
  },
  {
   "cell_type": "code",
   "execution_count": 15,
   "id": "908fc6c7",
   "metadata": {},
   "outputs": [],
   "source": [
    "nilai_ambang = 128\n",
    "daun_hasil = daun.copy()\n",
    "for x in range (tinggi):\n",
    "    for y in range(lebar):\n",
    "        if daun[x,y] < nilai_ambang :\n",
    "            daun_hasil[x,y] = 0\n",
    "        else :\n",
    "            daun_hasil[x,y] = 255"
   ]
  },
  {
   "cell_type": "code",
   "execution_count": 16,
   "id": "070b3da2",
   "metadata": {},
   "outputs": [],
   "source": [
    "cv2.imshow(\"Aras daun\", daun_hasil)\n",
    "cv2.waitKey()\n",
    "cv2.destroyAllWindows()"
   ]
  },
  {
   "cell_type": "markdown",
   "id": "721b1de7",
   "metadata": {},
   "source": [
    "# Menentukan Nilai ambang suatu gambar"
   ]
  },
  {
   "cell_type": "code",
   "execution_count": 29,
   "id": "ddc819c1",
   "metadata": {},
   "outputs": [],
   "source": [
    "def Literatif(image):\n",
    "    tinggi, lebar = image.shape\n",
    "    t0 = 127\n",
    "    while(True):\n",
    "        rata_kiri = 0;\n",
    "        rata_kanan = 0;\n",
    "        jum_kiri = 0;\n",
    "        jum_kanan = 0;\n",
    "        for x in range(tinggi):\n",
    "            for y in range(lebar):\n",
    "                if (image[x,y] <= 127):\n",
    "                    rata_kiri = rata_kiri + image[x,y]\n",
    "                    jum_kiri = jum_kiri + 1\n",
    "                else :\n",
    "                    rata_kanan = rata_kanan + image[x,y]\n",
    "                    jum_kanan =  jum_kanan + 1\n",
    "                \n",
    "        rata_kiri = rata_kiri / jum_kiri\n",
    "        rata_kanan = rata_kanan / jum_kanan\n",
    "        t1 = (rata_kiri + rata_kanan) / 2\n",
    "        if ((t0 - t1) < 1):\n",
    "            break\n",
    "        t0 = t1\n",
    "    return round(t1)"
   ]
  },
  {
   "cell_type": "code",
   "execution_count": 30,
   "id": "af7fdedc",
   "metadata": {},
   "outputs": [
    {
     "data": {
      "text/plain": [
       "131"
      ]
     },
     "execution_count": 30,
     "metadata": {},
     "output_type": "execute_result"
    }
   ],
   "source": [
    "Literatif(daun)"
   ]
  },
  {
   "cell_type": "code",
   "execution_count": null,
   "id": "387c3e12",
   "metadata": {},
   "outputs": [],
   "source": []
  }
 ],
 "metadata": {
  "kernelspec": {
   "display_name": "Python 3 (ipykernel)",
   "language": "python",
   "name": "python3"
  },
  "language_info": {
   "codemirror_mode": {
    "name": "ipython",
    "version": 3
   },
   "file_extension": ".py",
   "mimetype": "text/x-python",
   "name": "python",
   "nbconvert_exporter": "python",
   "pygments_lexer": "ipython3",
   "version": "3.10.9"
  }
 },
 "nbformat": 4,
 "nbformat_minor": 5
}
